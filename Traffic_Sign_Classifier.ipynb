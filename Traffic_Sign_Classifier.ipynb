{
 "cells": [
  {
   "cell_type": "markdown",
   "metadata": {},
   "source": [
    "# Self-Driving Car Engineer Nanodegree\n",
    "\n",
    "## Deep Learning\n",
    "\n",
    "## Project: Build a Traffic Sign Recognition Classifier\n",
    "\n",
    "In this notebook, a template is provided for you to implement your functionality in stages, which is required to successfully complete this project. If additional code is required that cannot be included in the notebook, be sure that the Python code is successfully imported and included in your submission if necessary. \n",
    "\n",
    "> **Note**: Once you have completed all of the code implementations, you need to finalize your work by exporting the iPython Notebook as an HTML document. Before exporting the notebook to html, all of the code cells need to have been run so that reviewers can see the final implementation and output. You can then export the notebook by using the menu above and navigating to  \\n\",\n",
    "    \"**File -> Download as -> HTML (.html)**. Include the finished document along with this notebook as your submission. \n",
    "\n",
    "In addition to implementing code, there is a writeup to complete. The writeup should be completed in a separate file, which can be either a markdown file or a pdf document. There is a [write up template](https://github.com/udacity/CarND-Traffic-Sign-Classifier-Project/blob/master/writeup_template.md) that can be used to guide the writing process. Completing the code template and writeup template will cover all of the [rubric points](https://review.udacity.com/#!/rubrics/481/view) for this project.\n",
    "\n",
    "The [rubric](https://review.udacity.com/#!/rubrics/481/view) contains \"Stand Out Suggestions\" for enhancing the project beyond the minimum requirements. The stand out suggestions are optional. If you decide to pursue the \"stand out suggestions\", you can include the code in this Ipython notebook and also discuss the results in the writeup file.\n",
    "\n",
    "\n",
    ">**Note:** Code and Markdown cells can be executed using the **Shift + Enter** keyboard shortcut. In addition, Markdown cells can be edited by typically double-clicking the cell to enter edit mode."
   ]
  },
  {
   "cell_type": "markdown",
   "metadata": {},
   "source": [
    "---\n",
    "## Step 0: Load The Data"
   ]
  },
  {
   "cell_type": "code",
   "execution_count": 1,
   "metadata": {},
   "outputs": [],
   "source": [
    "# TODO: Fill this in based on where you saved the training and testing data\n",
    "# leave current directory and change to traffic-signs_data folder\n",
    "\n",
    "# Load pickled data\n",
    "import pickle\n",
    "\n",
    "# Define data paths\n",
    "training_file = \"../traffic-signs-data/train.p\"\n",
    "validation_file = \"../traffic-signs-data/valid.p\"\n",
    "testing_file = \"../traffic-signs-data/test.p\"\n",
    "\n",
    "# Read datasets\n",
    "with open(training_file, mode='rb') as f:\n",
    "    train = pickle.load(f)\n",
    "with open(validation_file, mode='rb') as f:\n",
    "    valid = pickle.load(f)\n",
    "with open(testing_file, mode='rb') as f:\n",
    "    test = pickle.load(f)\n",
    "    \n",
    "# Separate dataset into images and labels\n",
    "X_train, y_train = train['features'], train['labels']\n",
    "X_valid, y_valid = valid['features'], valid['labels']\n",
    "X_test, y_test = test['features'], test['labels']"
   ]
  },
  {
   "cell_type": "markdown",
   "metadata": {},
   "source": [
    "---\n",
    "\n",
    "## Step 1: Dataset Summary & Exploration\n",
    "\n",
    "The pickled data is a dictionary with 4 key/value pairs:\n",
    "\n",
    "- `'features'` is a 4D array containing raw pixel data of the traffic sign images, (num examples, width, height, channels).\n",
    "- `'labels'` is a 1D array containing the label/class id of the traffic sign. The file `signnames.csv` contains id -> name mappings for each id.\n",
    "- `'sizes'` is a list containing tuples, (width, height) representing the original width and height the image.\n",
    "- `'coords'` is a list containing tuples, (x1, y1, x2, y2) representing coordinates of a bounding box around the sign in the image. **THESE COORDINATES ASSUME THE ORIGINAL IMAGE. THE PICKLED DATA CONTAINS RESIZED VERSIONS (32 by 32) OF THESE IMAGES**\n",
    "\n",
    "Complete the basic data summary below. Use python, numpy and/or pandas methods to calculate the data summary rather than hard coding the results. For example, the [pandas shape method](http://pandas.pydata.org/pandas-docs/stable/generated/pandas.DataFrame.shape.html) might be useful for calculating some of the summary results. "
   ]
  },
  {
   "cell_type": "markdown",
   "metadata": {},
   "source": [
    "### Provide a Basic Summary of the Data Set Using Python, Numpy and/or Pandas"
   ]
  },
  {
   "cell_type": "code",
   "execution_count": 2,
   "metadata": {},
   "outputs": [
    {
     "name": "stdout",
     "output_type": "stream",
     "text": [
      "Number of training examples = 34799\n",
      "Number of validation examples = 4410\n",
      "Number of testing examples = 12630\n",
      "Image data shape = (32, 32)\n",
      "Number of classes = 43\n"
     ]
    }
   ],
   "source": [
    "### Replace each question mark with the appropriate value. \n",
    "### Use python, pandas or numpy methods rather than hard coding the results\n",
    "\n",
    "# Imports\n",
    "import numpy as np\n",
    "\n",
    "# Throw error if data does not match\n",
    "assert(len(X_train) == len(y_train))\n",
    "assert(len(X_valid) == len(y_valid))\n",
    "assert(len(X_test) == len(y_test))\n",
    "\n",
    "# TODO: Number of training examples\n",
    "n_train = X_train.shape[0]\n",
    "\n",
    "# TODO: Number of validation examples\n",
    "n_validation = X_valid.shape[0]\n",
    "\n",
    "# TODO: Number of testing examples.\n",
    "n_test = X_test.shape[0]\n",
    "\n",
    "# TODO: What's the shape of an traffic sign image?\n",
    "image_shape = X_train.shape[1:3]\n",
    "\n",
    "# TODO: How many unique classes/labels there are in the dataset.\n",
    "n_classes = len(np.unique(y_train))\n",
    "\n",
    "print(\"Number of training examples =\", n_train)\n",
    "print(\"Number of validation examples =\", n_validation)\n",
    "print(\"Number of testing examples =\", n_test)\n",
    "print(\"Image data shape =\", image_shape)\n",
    "print(\"Number of classes =\", n_classes)"
   ]
  },
  {
   "cell_type": "markdown",
   "metadata": {},
   "source": [
    "### Include an exploratory visualization of the dataset"
   ]
  },
  {
   "cell_type": "markdown",
   "metadata": {},
   "source": [
    "Visualize the German Traffic Signs Dataset using the pickled file(s). This is open ended, suggestions include: plotting traffic sign images, plotting the count of each sign, etc. \n",
    "\n",
    "The [Matplotlib](http://matplotlib.org/) [examples](http://matplotlib.org/examples/index.html) and [gallery](http://matplotlib.org/gallery.html) pages are a great resource for doing visualizations in Python.\n",
    "\n",
    "**NOTE:** It's recommended you start with something simple first. If you wish to do more, come back to it after you've completed the rest of the sections. It can be interesting to look at the distribution of classes in the training, validation and test set. Is the distribution the same? Are there more examples of some classes than others?"
   ]
  },
  {
   "cell_type": "code",
   "execution_count": 3,
   "metadata": {},
   "outputs": [],
   "source": [
    "### Data exploration visualization code goes here.\n",
    "### Feel free to use as many code cells as needed.\n",
    "\n",
    "# Imports\n",
    "import matplotlib.pyplot as plt\n",
    "\n",
    "# Visualizations will be shown in the notebook.\n",
    "%matplotlib inline"
   ]
  },
  {
   "cell_type": "code",
   "execution_count": 4,
   "metadata": {},
   "outputs": [],
   "source": [
    "def plot_n_random_images(n):\n",
    "    # Loop over examples\n",
    "    for i in range(n):\n",
    "        # Randomly choose index out of the training data set\n",
    "        index = random.randint(0, len(X_train))\n",
    "        # Obtain image\n",
    "        image = X_train[index]\n",
    "        # Plot image and print its class label\n",
    "        plt.figure(figsize=(1,1))\n",
    "        plt.imshow(image, cmap=\"gray\")\n",
    "        plt.title(y_train[index])"
   ]
  },
  {
   "cell_type": "code",
   "execution_count": 5,
   "metadata": {},
   "outputs": [],
   "source": [
    "def plot_hist_of_data(data_label,str):\n",
    "    # Count occurence of each label\n",
    "    unique_train, counts_train = np.unique(data_label, return_counts=True)\n",
    "    # Plot bar chart\n",
    "    plt.bar(unique_train, counts_train)\n",
    "    plt.grid()\n",
    "    plt.title(str)\n",
    "    plt.show()"
   ]
  },
  {
   "cell_type": "code",
   "execution_count": 6,
   "metadata": {},
   "outputs": [
    {
     "data": {
      "image/png": "[encoded data removed]",
      "text/plain": [
       "<matplotlib.figure.Figure at 0x7f926b8efc50>"
      ]
     },
     "metadata": {},
     "output_type": "display_data"
    },
    {
     "data": {
      "image/png": "[encoded data removed]",
      "text/plain": [
       "<matplotlib.figure.Figure at 0x7f926b855be0>"
      ]
     },
     "metadata": {},
     "output_type": "display_data"
    },
    {
     "data": {
      "image/png": "[encoded data removed]",
      "text/plain": [
       "<matplotlib.figure.Figure at 0x7f926b8a51d0>"
      ]
     },
     "metadata": {},
     "output_type": "display_data"
    }
   ],
   "source": [
    "# Imports\n",
    "import random\n",
    "\n",
    "# Set number of images plotted below\n",
    "number_of_example_images = 3\n",
    "\n",
    "# Plot images\n",
    "plot_n_random_images(number_of_example_images)"
   ]
  },
  {
   "cell_type": "code",
   "execution_count": 7,
   "metadata": {},
   "outputs": [
    {
     "data": {
      "image/png": "[encoded data removed]",
      "text/plain": [
       "<matplotlib.figure.Figure at 0x7f926b844048>"
      ]
     },
     "metadata": {},
     "output_type": "display_data"
    },
    {
     "data": {
      "image/png": "[encoded data removed]",
      "text/plain": [
       "<matplotlib.figure.Figure at 0x7f926b844748>"
      ]
     },
     "metadata": {},
     "output_type": "display_data"
    },
    {
     "data": {
      "image/png": "[encoded data removed]",
      "text/plain": [
       "<matplotlib.figure.Figure at 0x7f926b6c9b00>"
      ]
     },
     "metadata": {},
     "output_type": "display_data"
    }
   ],
   "source": [
    "# Plot histogram of datasets\n",
    "plot_hist_of_data(y_train, \"Training Dataset Label Histogram\")\n",
    "plot_hist_of_data(y_valid, \"Validation Dataset Label Histogram\")\n",
    "plot_hist_of_data(y_test, \"Test Dataset Label Histogram\")"
   ]
  },
  {
   "cell_type": "markdown",
   "metadata": {},
   "source": [
    "----\n",
    "\n",
    "## Step 2: Design and Test a Model Architecture\n",
    "\n",
    "Design and implement a deep learning model that learns to recognize traffic signs. Train and test your model on the [German Traffic Sign Dataset](http://benchmark.ini.rub.de/?section=gtsrb&subsection=dataset).\n",
    "\n",
    "The LeNet-5 implementation shown in the [classroom](https://classroom.udacity.com/nanodegrees/nd013/parts/fbf77062-5703-404e-b60c-95b78b2f3f9e/modules/6df7ae49-c61c-4bb2-a23e-6527e69209ec/lessons/601ae704-1035-4287-8b11-e2c2716217ad/concepts/d4aca031-508f-4e0b-b493-e7b706120f81) at the end of the CNN lesson is a solid starting point. You'll have to change the number of classes and possibly the preprocessing, but aside from that it's plug and play! \n",
    "\n",
    "With the LeNet-5 solution from the lecture, you should expect a validation set accuracy of about 0.89. To meet specifications, the validation set accuracy will need to be at least 0.93. It is possible to get an even higher accuracy, but 0.93 is the minimum for a successful project submission. \n",
    "\n",
    "There are various aspects to consider when thinking about this problem:\n",
    "\n",
    "- Neural network architecture (is the network over or underfitting?)\n",
    "- Play around preprocessing techniques (normalization, rgb to grayscale, etc)\n",
    "- Number of examples per label (some have more than others).\n",
    "- Generate fake data.\n",
    "\n",
    "Here is an example of a [published baseline model on this problem](http://yann.lecun.com/exdb/publis/pdf/sermanet-ijcnn-11.pdf). It's not required to be familiar with the approach used in the paper but, it's good practice to try to read papers like these."
   ]
  },
  {
   "cell_type": "code",
   "execution_count": 8,
   "metadata": {},
   "outputs": [],
   "source": [
    "def data_augmentation(index,X_train,y_train):\n",
    "    # Grab image and label\n",
    "    image = X_train[index]\n",
    "    label = y_train[index]\n",
    "    # Flip image\n",
    "    flip_image = np.fliplr(image)\n",
    "    # Add dimension and concatenate to dataset and labels\n",
    "    flip_image2 = flip_image[np.newaxis]\n",
    "    X_train = np.concatenate((X_train,flip_image2))\n",
    "    label = label[np.newaxis]\n",
    "    y_train = np.concatenate((y_train,label))\n",
    "    return X_train,y_train"
   ]
  },
  {
   "cell_type": "code",
   "execution_count": 9,
   "metadata": {},
   "outputs": [
    {
     "data": {
      "text/plain": [
       "'\\n# Data augmentation\\n\\n# Determine the average number of each label\\nunique_train, counts_train = np.unique(y_train, return_counts=True)\\naverage_number_of_images_per_label = np.mean(counts_train)\\n\\n# Push back flipped image if label has few examples\\ninitial_range = len(y_train) \\nfor i in range(initial_range):\\n    # Print for progress\\n    if(i%1000==0):\\n        print(i)\\n    # Enhance dataset\\n    if counts_train[y_train[i]] < average_number_of_images_per_label:\\n        X_train,y_train = data_augmentation(i,X_train,y_train)\\n\\n# Print new shape and show histogram of enhanced training data set\\nprint(X_train.shape,y_train.shape)\\nplot_hist_of_data(y_train, \"Training Dataset Label Histogram\")\\n'"
      ]
     },
     "execution_count": 9,
     "metadata": {},
     "output_type": "execute_result"
    }
   ],
   "source": [
    "\"\"\"\n",
    "# Data augmentation\n",
    "\n",
    "# Determine the average number of each label\n",
    "unique_train, counts_train = np.unique(y_train, return_counts=True)\n",
    "average_number_of_images_per_label = np.mean(counts_train)\n",
    "\n",
    "# Push back flipped image if label has few examples\n",
    "initial_range = len(y_train) \n",
    "for i in range(initial_range):\n",
    "    # Print for progress\n",
    "    if(i%1000==0):\n",
    "        print(i)\n",
    "    # Enhance dataset\n",
    "    if counts_train[y_train[i]] < average_number_of_images_per_label:\n",
    "        X_train,y_train = data_augmentation(i,X_train,y_train)\n",
    "\n",
    "# Print new shape and show histogram of enhanced training data set\n",
    "print(X_train.shape,y_train.shape)\n",
    "plot_hist_of_data(y_train, \"Training Dataset Label Histogram\")\n",
    "\"\"\""
   ]
  },
  {
   "cell_type": "code",
   "execution_count": 10,
   "metadata": {},
   "outputs": [],
   "source": [
    "##### https://navoshta.com/traffic-signs-classification/\n",
    "### Data preprocessing ideas\n",
    "# Use different color channels for example taking the Y channel of the YCbCr representation / YUV\n",
    "# https://en.wikipedia.org/wiki/YCbCr\n",
    "# http://yann.lecun.com/exdb/publis/pdf/sermanet-ijcnn-11.pdf\n",
    "# If images have different contracts and brightnesses\n",
    "# skimage.exposure.equalize_adapthist\n",
    "### Data augmentation ideas\n",
    "# Use flipping horizontally and vertically for the images that are invariant to\n",
    "# these transformations or consider pairs of examples that create new examples of the other class for\n",
    "# certain transformations (right turn, left turn)\n",
    "# Use rotation and projection to generalize the net on squeezed and more uncertain data\n",
    "# Jittered dataset by using transformations that include scaling, rotation and small translations if the dataset\n",
    "# does not already include those uncertainties (yield to more robust results)\n",
    "### Model architecture\n",
    "# Use dropout for regularization\n",
    "# Use L2 regularization with a small lambda to penalise high weights"
   ]
  },
  {
   "cell_type": "markdown",
   "metadata": {},
   "source": [
    "### Pre-process the Data Set (normalization, grayscale, etc.)"
   ]
  },
  {
   "cell_type": "markdown",
   "metadata": {},
   "source": [
    "Minimally, the image data should be normalized so that the data has mean zero and equal variance. For image data, `(pixel - 128)/ 128` is a quick way to approximately normalize the data and can be used in this project. \n",
    "\n",
    "Other pre-processing steps are optional. You can try different techniques to see if it improves performance. \n",
    "\n",
    "Use the code cell (or multiple code cells, if necessary) to implement the first step of your project."
   ]
  },
  {
   "cell_type": "code",
   "execution_count": 11,
   "metadata": {},
   "outputs": [],
   "source": [
    "# Convert rgb image to grayscale\n",
    "def gray_scale(data):\n",
    "    return np.sum(data/3, axis=3, keepdims=True)"
   ]
  },
  {
   "cell_type": "code",
   "execution_count": 12,
   "metadata": {},
   "outputs": [],
   "source": [
    "# Normalize image\n",
    "def normalize(data):\n",
    "    return (data-np.mean(data))/np.std(data)"
   ]
  },
  {
   "cell_type": "code",
   "execution_count": 13,
   "metadata": {},
   "outputs": [],
   "source": [
    "def rgb_to_y_channel(data):\n",
    "    #Convert to grayscale, e.g. single Y channel\n",
    "    return (0.299 * data[:, :, :, 0] + 0.587 * data[:, :, :, 1] + 0.114 * data[:, :, :, 2])[...,None]"
   ]
  },
  {
   "cell_type": "code",
   "execution_count": 14,
   "metadata": {},
   "outputs": [],
   "source": [
    "# Normalize image between 0 and 1\n",
    "def normalize_to_0_and_1(data):\n",
    "    return (data / 255.).astype(np.float32)"
   ]
  },
  {
   "cell_type": "code",
   "execution_count": null,
   "metadata": {},
   "outputs": [],
   "source": [
    "### Preprocess the data here. It is required to normalize the data. Other preprocessing steps could include \n",
    "### converting to grayscale, etc.\n",
    "### Feel free to use as many code cells as needed.\n",
    "\n",
    "# Grayscale dataset\n",
    "X_train_gray = gray_scale(X_train)\n",
    "X_valid_gray = gray_scale(X_valid)\n",
    "X_test_gray = gray_scale(X_test)\n",
    "\n",
    "# Normalized grayscale dataset\n",
    "X_train_normed_gray = normalize(X_train_gray)\n",
    "X_valid_normed_gray = normalize(X_valid_gray)\n",
    "X_test_normed_gray = normalize(X_test_gray)\n",
    "\n",
    "# Normalized rgb dataset\n",
    "X_train_normed_rgb = normalize(X_train)\n",
    "X_valid_normed_rgb = normalize(X_valid)\n",
    "X_test_normed_rgb = normalize(X_test)"
   ]
  },
  {
   "cell_type": "code",
   "execution_count": 16,
   "metadata": {},
   "outputs": [],
   "source": [
    "# Y-channel dataset\n",
    "X_train_y = rgb_to_y_channel(X_train)\n",
    "X_valid_y = rgb_to_y_channel(X_valid)\n",
    "X_test_y = rgb_to_y_channel(X_test)\n",
    "\n",
    "# Normalized Y-channel dataset\n",
    "X_train_normed_y = normalize_to_0_and_1(X_train)\n",
    "X_valid_normed_y = normalize_to_0_and_1(X_valid)\n",
    "X_test_normed_y = normalize_to_0_and_1(X_test)"
   ]
  },
  {
   "cell_type": "code",
   "execution_count": 17,
   "metadata": {},
   "outputs": [],
   "source": [
    "# Select dataset\n",
    "training_data = X_train_normed_y\n",
    "validation_data = X_valid_normed_y\n",
    "testing_data = X_test_normed_y"
   ]
  },
  {
   "cell_type": "code",
   "execution_count": 18,
   "metadata": {},
   "outputs": [
    {
     "name": "stdout",
     "output_type": "stream",
     "text": [
      "(34799, 32, 32, 3)\n",
      "(4410, 32, 32, 3)\n",
      "(12630, 32, 32, 3)\n",
      "0.0\n",
      "0.0\n",
      "0.0\n",
      "1.0\n",
      "1.0\n",
      "1.0\n"
     ]
    }
   ],
   "source": [
    "# Print preprocessing\n",
    "print(training_data.shape)\n",
    "print(validation_data.shape)\n",
    "print(testing_data.shape)\n",
    "\n",
    "print(np.min(training_data))\n",
    "print(np.min(validation_data))\n",
    "print(np.min(testing_data))\n",
    "\n",
    "print(np.max(training_data))\n",
    "print(np.max(validation_data))\n",
    "print(np.max(testing_data))"
   ]
  },
  {
   "cell_type": "markdown",
   "metadata": {},
   "source": [
    "### Model Architecture"
   ]
  },
  {
   "cell_type": "code",
   "execution_count": 19,
   "metadata": {},
   "outputs": [],
   "source": [
    "# Hyperparameters\n",
    "EPOCHS = 50\n",
    "BATCH_SIZE = 128\n",
    "INIT_MU = 0\n",
    "INIT_SIGMA = 0.1\n",
    "INPUT_CHANNELS = training_data.shape[3]\n",
    "NUM_CLASSES = n_classes\n",
    "LEARNING_RATE = 0.001"
   ]
  },
  {
   "cell_type": "code",
   "execution_count": 20,
   "metadata": {},
   "outputs": [],
   "source": [
    "### Define your architecture here.\n",
    "### Feel free to use as many code cells as needed.\n",
    "\n",
    "# Imports\n",
    "import tensorflow as tf\n",
    "from tensorflow.contrib.layers import flatten\n",
    "\n",
    "# LeNet architecture\n",
    "def LeNet(x):  \n",
    "    \n",
    "    # Layer 1: Convolutional. Input = image_shapexINPUT_CHANNELS. Output = 28x28x6.\n",
    "    conv1_W = tf.Variable(tf.truncated_normal(shape=(5, 5, INPUT_CHANNELS, 6), mean = INIT_MU, stddev = INIT_SIGMA))\n",
    "    conv1_b = tf.Variable(tf.zeros(6))\n",
    "    conv_layer = tf.nn.conv2d(x, conv1_W, [1,1,1,1], 'VALID') + conv1_b\n",
    "    \n",
    "    # Activation.\n",
    "    conv_layer = tf.nn.relu(conv_layer)\n",
    "    \n",
    "    # Pooling. Input = 28x28x6. Output = 14x14x6.\n",
    "    conv_layer = tf.nn.max_pool(conv_layer, [1,2,2,1], [1,2,2,1], 'VALID')\n",
    "    \n",
    "    # Layer 2: Convolutional. Output = 10x10x16.\n",
    "    conv2_W = tf.Variable(tf.truncated_normal(shape=(5, 5, 6, 16), mean = INIT_MU, stddev = INIT_SIGMA))\n",
    "    conv2_b = tf.Variable(tf.zeros(16))\n",
    "    conv_layer = tf.nn.conv2d(conv_layer, conv2_W, [1,1,1,1], 'VALID') + conv2_b\n",
    "    \n",
    "    # Activation.\n",
    "    conv_layer = tf.nn.relu(conv_layer)\n",
    "    \n",
    "    # Pooling. Input = 10x10x16. Output = 5x5x16.\n",
    "    conv_layer = tf.nn.max_pool(conv_layer, [1,2,2,1], [1,2,2,1], 'VALID')\n",
    "    \n",
    "    # Flatten. Input = 5x5x16. Output = 400.\n",
    "    conv_layer = tf.contrib.layers.flatten(conv_layer)\n",
    "    \n",
    "    # Layer 3: Fully Connected. Input = 400. Output = 120.\n",
    "    full1_W = tf.Variable(tf.truncated_normal(shape=(400,120), mean = INIT_MU, stddev = INIT_SIGMA))\n",
    "    full1_b = tf.Variable(tf.zeros(120))\n",
    "    conv_layer = tf.matmul(conv_layer, full1_W) + full1_b\n",
    "    \n",
    "    # Activation.\n",
    "    conv_layer = tf.nn.relu(conv_layer)\n",
    "    \n",
    "    # Layer 4: Fully Connected. Input = 120. Output = 84.\n",
    "    full2_W = tf.Variable(tf.truncated_normal(shape=(120,84), mean = INIT_MU, stddev = INIT_SIGMA))\n",
    "    full2_b = tf.Variable(tf.zeros(84))\n",
    "    conv_layer = tf.matmul(conv_layer, full2_W) + full2_b\n",
    "    \n",
    "    # Activation.\n",
    "    conv_layer = tf.nn.relu(conv_layer)\n",
    "    \n",
    "    # TODO: Layer 5: Fully Connected. Input = 84. Output = NUM_CLASSES.\n",
    "    full3_W = tf.Variable(tf.truncated_normal(shape=(84,NUM_CLASSES), mean = INIT_MU, stddev = INIT_SIGMA))\n",
    "    full3_b = tf.Variable(tf.zeros(NUM_CLASSES))\n",
    "    conv_layer = tf.matmul(conv_layer, full3_W) + full3_b\n",
    "    \n",
    "    return conv_layer"
   ]
  },
  {
   "cell_type": "markdown",
   "metadata": {},
   "source": [
    "### Train, Validate and Test the Model"
   ]
  },
  {
   "cell_type": "markdown",
   "metadata": {},
   "source": [
    "A validation set can be used to assess how well the model is performing. A low accuracy on the training and validation\n",
    "sets imply underfitting. A high accuracy on the training set but low accuracy on the validation set implies overfitting."
   ]
  },
  {
   "cell_type": "code",
   "execution_count": 21,
   "metadata": {},
   "outputs": [],
   "source": [
    "### Train your model here.\n",
    "### Calculate and report the accuracy on the training and validation set.\n",
    "### Once a final model architecture is selected, \n",
    "### the accuracy on the test set should be calculated and reported as well.\n",
    "### Feel free to use as many code cells as needed."
   ]
  },
  {
   "cell_type": "code",
   "execution_count": 22,
   "metadata": {},
   "outputs": [],
   "source": [
    "# Features and Labels\n",
    "x = tf.placeholder(tf.float32, (None, image_shape[0], image_shape[1], INPUT_CHANNELS))\n",
    "y = tf.placeholder(tf.int32, (None))\n",
    "one_hot_y = tf.one_hot(y, NUM_CLASSES)"
   ]
  },
  {
   "cell_type": "code",
   "execution_count": 23,
   "metadata": {},
   "outputs": [],
   "source": [
    "# Training pipeline\n",
    "logits = LeNet(x)\n",
    "cross_entropy = tf.nn.softmax_cross_entropy_with_logits(labels=one_hot_y, logits=logits)\n",
    "loss_operation = tf.reduce_mean(cross_entropy)\n",
    "optimizer = tf.train.AdamOptimizer(learning_rate = LEARNING_RATE)\n",
    "training_operation = optimizer.minimize(loss_operation)"
   ]
  },
  {
   "cell_type": "code",
   "execution_count": 24,
   "metadata": {},
   "outputs": [],
   "source": [
    "# Evaluate datasset\n",
    "def evaluate(X_data, y_data):\n",
    "    num_examples = len(X_data)\n",
    "    total_accuracy = 0\n",
    "    sess = tf.get_default_session()\n",
    "    for offset in range(0, num_examples, BATCH_SIZE):\n",
    "        batch_x, batch_y = X_data[offset:offset+BATCH_SIZE], y_data[offset:offset+BATCH_SIZE]\n",
    "        accuracy = sess.run(accuracy_operation, feed_dict={x: batch_x, y: batch_y})\n",
    "        total_accuracy += (accuracy * len(batch_x))\n",
    "    return total_accuracy / num_examples"
   ]
  },
  {
   "cell_type": "code",
   "execution_count": 25,
   "metadata": {},
   "outputs": [],
   "source": [
    "# Model evaluation\n",
    "correct_prediction = tf.equal(tf.argmax(logits, 1), tf.argmax(one_hot_y, 1))\n",
    "accuracy_operation = tf.reduce_mean(tf.cast(correct_prediction, tf.float32))\n",
    "saver = tf.train.Saver()"
   ]
  },
  {
   "cell_type": "code",
   "execution_count": null,
   "metadata": {},
   "outputs": [
    {
     "name": "stdout",
     "output_type": "stream",
     "text": [
      "Training...\n",
      "\n",
      "EPOCH 1 ...\n",
      "Validation Accuracy = 0.665\n",
      "\n",
      "EPOCH 2 ...\n",
      "Validation Accuracy = 0.806\n",
      "\n",
      "EPOCH 3 ...\n",
      "Validation Accuracy = 0.828\n",
      "\n",
      "EPOCH 4 ...\n",
      "Validation Accuracy = 0.854\n",
      "\n",
      "EPOCH 5 ...\n",
      "Validation Accuracy = 0.873\n",
      "\n",
      "EPOCH 6 ...\n",
      "Validation Accuracy = 0.875\n",
      "\n",
      "EPOCH 7 ...\n",
      "Validation Accuracy = 0.876\n",
      "\n",
      "EPOCH 8 ...\n",
      "Validation Accuracy = 0.885\n",
      "\n",
      "EPOCH 9 ...\n",
      "Validation Accuracy = 0.882\n",
      "\n",
      "EPOCH 10 ...\n",
      "Validation Accuracy = 0.893\n",
      "\n",
      "EPOCH 11 ...\n",
      "Validation Accuracy = 0.881\n",
      "\n",
      "EPOCH 12 ...\n",
      "Validation Accuracy = 0.890\n",
      "\n",
      "EPOCH 13 ...\n",
      "Validation Accuracy = 0.897\n",
      "\n",
      "EPOCH 14 ...\n",
      "Validation Accuracy = 0.913\n",
      "\n",
      "EPOCH 15 ...\n",
      "Validation Accuracy = 0.897\n",
      "\n",
      "EPOCH 16 ...\n",
      "Validation Accuracy = 0.903\n",
      "\n",
      "EPOCH 17 ...\n",
      "Validation Accuracy = 0.904\n",
      "\n",
      "EPOCH 18 ...\n",
      "Validation Accuracy = 0.909\n",
      "\n",
      "EPOCH 19 ...\n",
      "Validation Accuracy = 0.907\n",
      "\n",
      "EPOCH 20 ...\n",
      "Validation Accuracy = 0.913\n",
      "\n",
      "EPOCH 21 ...\n",
      "Validation Accuracy = 0.909\n",
      "\n",
      "EPOCH 22 ...\n",
      "Validation Accuracy = 0.915\n",
      "\n",
      "EPOCH 23 ...\n",
      "Validation Accuracy = 0.904\n",
      "\n",
      "EPOCH 24 ...\n",
      "Validation Accuracy = 0.907\n",
      "\n",
      "EPOCH 25 ...\n",
      "Validation Accuracy = 0.908\n",
      "\n",
      "EPOCH 26 ...\n",
      "Validation Accuracy = 0.907\n",
      "\n",
      "EPOCH 27 ...\n",
      "Validation Accuracy = 0.913\n",
      "\n",
      "EPOCH 28 ...\n",
      "Validation Accuracy = 0.923\n",
      "\n",
      "EPOCH 29 ...\n",
      "Validation Accuracy = 0.916\n",
      "\n",
      "EPOCH 30 ...\n",
      "Validation Accuracy = 0.919\n",
      "\n",
      "EPOCH 31 ...\n",
      "Validation Accuracy = 0.923\n",
      "\n",
      "EPOCH 32 ...\n",
      "Validation Accuracy = 0.924\n",
      "\n",
      "EPOCH 33 ...\n",
      "Validation Accuracy = 0.934\n",
      "\n"
     ]
    }
   ],
   "source": [
    "# Imports\n",
    "from sklearn.utils import shuffle\n",
    "\n",
    "# Training the model\n",
    "with tf.Session() as sess:\n",
    "    sess.run(tf.global_variables_initializer())\n",
    "    num_examples = len(training_data)\n",
    "    \n",
    "    print(\"Training...\")\n",
    "    print()\n",
    "    for i in range(EPOCHS):\n",
    "        training_data, y_train = shuffle(training_data, y_train)\n",
    "        for offset in range(0, num_examples, BATCH_SIZE):\n",
    "            end = offset + BATCH_SIZE\n",
    "            batch_x, batch_y = training_data[offset:end], y_train[offset:end]\n",
    "            sess.run(training_operation, feed_dict={x: batch_x, y: batch_y})\n",
    "            \n",
    "        validation_accuracy = evaluate(validation_data, y_valid)\n",
    "        print(\"EPOCH {} ...\".format(i+1))\n",
    "        print(\"Validation Accuracy = {:.3f}\".format(validation_accuracy))\n",
    "        print()\n",
    "        \n",
    "    saver.save(sess, './lenet')\n",
    "    print(\"Model saved\")"
   ]
  },
  {
   "cell_type": "markdown",
   "metadata": {},
   "source": [
    "---\n",
    "\n",
    "## Step 3: Test a Model on New Images\n",
    "\n",
    "To give yourself more insight into how your model is working, download at least five pictures of German traffic signs from the web and use your model to predict the traffic sign type.\n",
    "\n",
    "You may find `signnames.csv` useful as it contains mappings from the class id (integer) to the actual sign name."
   ]
  },
  {
   "cell_type": "markdown",
   "metadata": {},
   "source": [
    "### Load and Output the Images"
   ]
  },
  {
   "cell_type": "code",
   "execution_count": 52,
   "metadata": {},
   "outputs": [
    {
     "name": "stdout",
     "output_type": "stream",
     "text": [
      "(7, 32, 32, 3)\n",
      "(7, 32, 32, 1)\n",
      "(7, 32, 32, 1)\n"
     ]
    },
    {
     "data": {
      "image/png": "[encoded data removed]",
      "text/plain": [
       "<matplotlib.figure.Figure at 0x7f3d936972b0>"
      ]
     },
     "metadata": {},
     "output_type": "display_data"
    },
    {
     "data": {
      "image/png": "[encoded data removed]",
      "text/plain": [
       "<matplotlib.figure.Figure at 0x7f3d933dd828>"
      ]
     },
     "metadata": {},
     "output_type": "display_data"
    },
    {
     "data": {
      "image/png": "[encoded data removed]",
      "text/plain": [
       "<matplotlib.figure.Figure at 0x7f3d92b9e358>"
      ]
     },
     "metadata": {},
     "output_type": "display_data"
    },
    {
     "data": {
      "image/png": "[encoded data removed]",
      "text/plain": [
       "<matplotlib.figure.Figure at 0x7f3d92b6f1d0>"
      ]
     },
     "metadata": {},
     "output_type": "display_data"
    },
    {
     "data": {
      "image/png": "[encoded data removed]",
      "text/plain": [
       "<matplotlib.figure.Figure at 0x7f3d92b2e1d0>"
      ]
     },
     "metadata": {},
     "output_type": "display_data"
    },
    {
     "data": {
      "image/png": "[encoded data removed]",
      "text/plain": [
       "<matplotlib.figure.Figure at 0x7f3d92a7e0b8>"
      ]
     },
     "metadata": {},
     "output_type": "display_data"
    },
    {
     "data": {
      "image/png": "[encoded data removed]",
      "text/plain": [
       "<matplotlib.figure.Figure at 0x7f3d92abb048>"
      ]
     },
     "metadata": {},
     "output_type": "display_data"
    }
   ],
   "source": [
    "### Load the images and plot them here.\n",
    "### Feel free to use as many code cells as needed.\n",
    "\n",
    "# Read personal test images\n",
    "import matplotlib.image as mpimg\n",
    "image1 = mpimg.imread('test_images/bumpy_road.jpg')\n",
    "image2 = mpimg.imread('test_images/limit60.jpg')\n",
    "image3 = mpimg.imread('test_images/limit80.jpg')\n",
    "image4 = mpimg.imread('test_images/right_turn.jpg')\n",
    "image5 = mpimg.imread('test_images/road_work.jpg')\n",
    "image6 = mpimg.imread('test_images/stop.jpg')\n",
    "image7 = mpimg.imread('test_images/yield.jpg')\n",
    "\n",
    "# Add dimensionality to concatenate them\n",
    "image1 = image1[np.newaxis]\n",
    "image2 = image2[np.newaxis]\n",
    "image3 = image3[np.newaxis]\n",
    "image4 = image4[np.newaxis]\n",
    "image5 = image5[np.newaxis]\n",
    "image6 = image6[np.newaxis]\n",
    "image7 = image7[np.newaxis]\n",
    "\n",
    "# Create small personal test set\n",
    "test = np.concatenate((image1,image2,image3,image4,image5,image6,image7))\n",
    "print(test.shape)\n",
    "\n",
    "# Preprocess test set\n",
    "gray_test = gray_scale(test)\n",
    "print(gray_test.shape)\n",
    "norm_gray_test = normalize(gray_test)\n",
    "print(norm_gray_test.shape)\n",
    "\n",
    "# Define ground truth labels for own data set from signnames.csv\n",
    "ground_truth_labels = np.array([22, 3, 5, 33, 25, 14, 13])\n",
    "\n",
    "# Plot test images\n",
    "for i in range(test.shape[0]):\n",
    "    plt.figure(figsize=(1,1))\n",
    "    plt.imshow(test[i], cmap=\"gray\")\n",
    "    plt.title(ground_truth_labels[i])"
   ]
  },
  {
   "cell_type": "markdown",
   "metadata": {},
   "source": [
    "### Predict the Sign Type for Each Image"
   ]
  },
  {
   "cell_type": "code",
   "execution_count": 53,
   "metadata": {},
   "outputs": [
    {
     "name": "stdout",
     "output_type": "stream",
     "text": [
      "[array([22,  3,  2, 33, 25, 14, 13])]\n"
     ]
    }
   ],
   "source": [
    "### Run the predictions here and use the model to output the prediction for each image.\n",
    "### Make sure to pre-process the images with the same pre-processing pipeline used earlier.\n",
    "### Feel free to use as many code cells as needed.\n",
    "\n",
    "# Start session\n",
    "with tf.Session() as sess:\n",
    "    # Load pretrained nez\n",
    "    saver = tf.train.import_meta_graph('./lenet.meta')\n",
    "    saver.restore(sess, \"./lenet\")\n",
    "    # Predict each image\n",
    "    prediction=tf.argmax(logits,1)\n",
    "    predicted_labels = sess.run([prediction],feed_dict={x: norm_gray_test})\n",
    "    # Print best labels\n",
    "    print(predicted_labels)"
   ]
  },
  {
   "cell_type": "markdown",
   "metadata": {},
   "source": [
    "### Analyze Performance"
   ]
  },
  {
   "cell_type": "code",
   "execution_count": 55,
   "metadata": {},
   "outputs": [
    {
     "name": "stdout",
     "output_type": "stream",
     "text": [
      "Test Set Accuracy = 0.857\n"
     ]
    }
   ],
   "source": [
    "### Calculate the accuracy for these 5 new images. \n",
    "### For example, if the model predicted 1 out of 5 signs correctly, it's 20% accurate on these new images.\n",
    "\n",
    "accuracy = np.mean(predicted_labels == ground_truth_labels)\n",
    "print(\"Test Set Accuracy = {:.3f}\".format(accuracy))"
   ]
  },
  {
   "cell_type": "markdown",
   "metadata": {},
   "source": [
    "### Output Top 5 Softmax Probabilities For Each Image Found on the Web"
   ]
  },
  {
   "cell_type": "markdown",
   "metadata": {},
   "source": [
    "For each of the new images, print out the model's softmax probabilities to show the **certainty** of the model's predictions (limit the output to the top 5 probabilities for each image). [`tf.nn.top_k`](https://www.tensorflow.org/versions/r0.12/api_docs/python/nn.html#top_k) could prove helpful here. \n",
    "\n",
    "The example below demonstrates how tf.nn.top_k can be used to find the top k predictions for each image.\n",
    "\n",
    "`tf.nn.top_k` will return the values and indices (class ids) of the top k predictions. So if k=3, for each sign, it'll return the 3 largest probabilities (out of a possible 43) and the correspoding class ids.\n",
    "\n",
    "Take this numpy array as an example. The values in the array represent predictions. The array contains softmax probabilities for five candidate images with six possible classes. `tf.nn.top_k` is used to choose the three classes with the highest probability:\n",
    "\n",
    "```\n",
    "# (5, 6) array\n",
    "a = np.array([[ 0.24879643,  0.07032244,  0.12641572,  0.34763842,  0.07893497,\n",
    "         0.12789202],\n",
    "       [ 0.28086119,  0.27569815,  0.08594638,  0.0178669 ,  0.18063401,\n",
    "         0.15899337],\n",
    "       [ 0.26076848,  0.23664738,  0.08020603,  0.07001922,  0.1134371 ,\n",
    "         0.23892179],\n",
    "       [ 0.11943333,  0.29198961,  0.02605103,  0.26234032,  0.1351348 ,\n",
    "         0.16505091],\n",
    "       [ 0.09561176,  0.34396535,  0.0643941 ,  0.16240774,  0.24206137,\n",
    "         0.09155967]])\n",
    "```\n",
    "\n",
    "Running it through `sess.run(tf.nn.top_k(tf.constant(a), k=3))` produces:\n",
    "\n",
    "```\n",
    "TopKV2(values=array([[ 0.34763842,  0.24879643,  0.12789202],\n",
    "       [ 0.28086119,  0.27569815,  0.18063401],\n",
    "       [ 0.26076848,  0.23892179,  0.23664738],\n",
    "       [ 0.29198961,  0.26234032,  0.16505091],\n",
    "       [ 0.34396535,  0.24206137,  0.16240774]]), indices=array([[3, 0, 5],\n",
    "       [0, 1, 4],\n",
    "       [0, 5, 1],\n",
    "       [1, 3, 5],\n",
    "       [1, 4, 3]], dtype=int32))\n",
    "```\n",
    "\n",
    "Looking just at the first row we get `[ 0.34763842,  0.24879643,  0.12789202]`, you can confirm these are the 3 largest probabilities in `a`. You'll also notice `[3, 0, 5]` are the corresponding indices."
   ]
  },
  {
   "cell_type": "code",
   "execution_count": 56,
   "metadata": {},
   "outputs": [
    {
     "name": "stdout",
     "output_type": "stream",
     "text": [
      "[22  3  5 33 25 14 13]\n",
      "TopKV2(values=array([[  9.99804080e-01,   1.95957939e-04,   1.67392972e-14,\n",
      "          7.63634159e-24,   1.58469440e-28],\n",
      "       [  9.99999523e-01,   4.32260151e-07,   1.02582352e-10,\n",
      "          2.90699437e-14,   4.24254054e-17],\n",
      "       [  1.00000000e+00,   2.59618493e-10,   3.93475183e-12,\n",
      "          4.36482955e-23,   1.08011173e-30],\n",
      "       [  1.00000000e+00,   1.90904496e-29,   1.34009412e-30,\n",
      "          1.01071525e-30,   3.74497145e-33],\n",
      "       [  9.99999523e-01,   4.99915984e-07,   3.20309612e-10,\n",
      "          2.90925062e-11,   1.39978957e-12],\n",
      "       [  1.00000000e+00,   2.27897074e-13,   1.30021102e-13,\n",
      "          4.34342105e-15,   1.38479670e-16],\n",
      "       [  1.00000000e+00,   1.52565497e-16,   1.68245793e-23,\n",
      "          2.54166290e-24,   6.27104399e-27]], dtype=float32), indices=array([[22, 29, 24, 23, 28],\n",
      "       [ 3, 23,  2,  1,  5],\n",
      "       [ 2,  1,  5,  3, 13],\n",
      "       [33, 21,  7, 11, 37],\n",
      "       [25, 33, 26, 11, 21],\n",
      "       [14, 37, 17, 40,  9],\n",
      "       [13, 35, 15,  2,  5]], dtype=int32))\n"
     ]
    }
   ],
   "source": [
    "### Print out the top five softmax probabilities for the predictions on the German traffic sign images found on the web. \n",
    "### Feel free to use as many code cells as needed.\n",
    "\n",
    "# Define top k guesses by applying softmax to logits\n",
    "softmax_logits = tf.nn.softmax(logits)\n",
    "top_k = tf.nn.top_k(softmax_logits, k=5)\n",
    "\n",
    "# For comparison print the ground truth labels\n",
    "print(ground_truth_labels)\n",
    "\n",
    "# Start tf session\n",
    "with tf.Session() as sess:\n",
    "    # Load pretrained model\n",
    "    saver = tf.train.import_meta_graph('./lenet.meta')\n",
    "    saver.restore(sess, \"./lenet\")\n",
    "    # Find top k predictions\n",
    "    my_top_k = sess.run(top_k, feed_dict={x: norm_gray_test})\n",
    "    # Print predictions and their assigned probabilities\n",
    "    print(my_top_k)"
   ]
  },
  {
   "cell_type": "markdown",
   "metadata": {},
   "source": [
    "### Project Writeup\n",
    "\n",
    "Once you have completed the code implementation, document your results in a project writeup using this [template](https://github.com/udacity/CarND-Traffic-Sign-Classifier-Project/blob/master/writeup_template.md) as a guide. The writeup can be in a markdown or pdf file. "
   ]
  },
  {
   "cell_type": "markdown",
   "metadata": {},
   "source": [
    "> **Note**: Once you have completed all of the code implementations and successfully answered each question above, you may finalize your work by exporting the iPython Notebook as an HTML document. You can do this by using the menu above and navigating to  \\n\",\n",
    "    \"**File -> Download as -> HTML (.html)**. Include the finished document along with this notebook as your submission."
   ]
  },
  {
   "cell_type": "markdown",
   "metadata": {},
   "source": [
    "---\n",
    "\n",
    "## Step 4 (Optional): Visualize the Neural Network's State with Test Images\n",
    "\n",
    " This Section is not required to complete but acts as an additional excersise for understaning the output of a neural network's weights. While neural networks can be a great learning device they are often referred to as a black box. We can understand what the weights of a neural network look like better by plotting their feature maps. After successfully training your neural network you can see what it's feature maps look like by plotting the output of the network's weight layers in response to a test stimuli image. From these plotted feature maps, it's possible to see what characteristics of an image the network finds interesting. For a sign, maybe the inner network feature maps react with high activation to the sign's boundary outline or to the contrast in the sign's painted symbol.\n",
    "\n",
    " Provided for you below is the function code that allows you to get the visualization output of any tensorflow weight layer you want. The inputs to the function should be a stimuli image, one used during training or a new one you provided, and then the tensorflow variable name that represents the layer's state during the training process, for instance if you wanted to see what the [LeNet lab's](https://classroom.udacity.com/nanodegrees/nd013/parts/fbf77062-5703-404e-b60c-95b78b2f3f9e/modules/6df7ae49-c61c-4bb2-a23e-6527e69209ec/lessons/601ae704-1035-4287-8b11-e2c2716217ad/concepts/d4aca031-508f-4e0b-b493-e7b706120f81) feature maps looked like for it's second convolutional layer you could enter conv2 as the tf_activation variable.\n",
    "\n",
    "For an example of what feature map outputs look like, check out NVIDIA's results in their paper [End-to-End Deep Learning for Self-Driving Cars](https://devblogs.nvidia.com/parallelforall/deep-learning-self-driving-cars/) in the section Visualization of internal CNN State. NVIDIA was able to show that their network's inner weights had high activations to road boundary lines by comparing feature maps from an image with a clear path to one without. Try experimenting with a similar test to show that your trained network's weights are looking for interesting features, whether it's looking at differences in feature maps from images with or without a sign, or even what feature maps look like in a trained network vs a completely untrained one on the same sign image.\n",
    "\n",
    "<figure>\n",
    " <img src=\"visualize_cnn.png\" width=\"380\" alt=\"Combined Image\" />\n",
    " <figcaption>\n",
    " <p></p> \n",
    " <p style=\"text-align: center;\"> Your output should look something like this (above)</p> \n",
    " </figcaption>\n",
    "</figure>\n",
    " <p></p> \n"
   ]
  },
  {
   "cell_type": "raw",
   "metadata": {},
   "source": []
  },
  {
   "cell_type": "code",
   "execution_count": null,
   "metadata": {},
   "outputs": [],
   "source": [
    "### Visualize your network's feature maps here.\n",
    "### Feel free to use as many code cells as needed.\n",
    "\n",
    "# image_input: the test image being fed into the network to produce the feature maps\n",
    "# tf_activation: should be a tf variable name used during your training procedure that represents the calculated state of a specific weight layer\n",
    "# activation_min/max: can be used to view the activation contrast in more detail, by default matplot sets min and max to the actual min and max values of the output\n",
    "# plt_num: used to plot out multiple different weight feature map sets on the same block, just extend the plt number for each new feature map entry\n",
    "\n",
    "def outputFeatureMap(image_input, tf_activation, activation_min=-1, activation_max=-1 ,plt_num=1):\n",
    "    # Here make sure to preprocess your image_input in a way your network expects\n",
    "    # with size, normalization, ect if needed\n",
    "    # image_input =\n",
    "    # Note: x should be the same name as your network's tensorflow data placeholder variable\n",
    "    # If you get an error tf_activation is not defined it may be having trouble accessing the variable from inside a function\n",
    "    activation = tf_activation.eval(session=sess,feed_dict={x : image_input})\n",
    "    featuremaps = activation.shape[3]\n",
    "    plt.figure(plt_num, figsize=(15,15))\n",
    "    for featuremap in range(featuremaps):\n",
    "        plt.subplot(6,8, featuremap+1) # sets the number of feature maps to show on each row and column\n",
    "        plt.title('FeatureMap ' + str(featuremap)) # displays the feature map number\n",
    "        if activation_min != -1 & activation_max != -1:\n",
    "            plt.imshow(activation[0,:,:, featuremap], interpolation=\"nearest\", vmin =activation_min, vmax=activation_max, cmap=\"gray\")\n",
    "        elif activation_max != -1:\n",
    "            plt.imshow(activation[0,:,:, featuremap], interpolation=\"nearest\", vmax=activation_max, cmap=\"gray\")\n",
    "        elif activation_min !=-1:\n",
    "            plt.imshow(activation[0,:,:, featuremap], interpolation=\"nearest\", vmin=activation_min, cmap=\"gray\")\n",
    "        else:\n",
    "            plt.imshow(activation[0,:,:, featuremap], interpolation=\"nearest\", cmap=\"gray\")"
   ]
  }
 ],
 "metadata": {
  "anaconda-cloud": {},
  "kernelspec": {
   "display_name": "Python 3",
   "language": "python",
   "name": "python3"
  },
  "language_info": {
   "codemirror_mode": {
    "name": "ipython",
    "version": 3
   },
   "file_extension": ".py",
   "mimetype": "text/x-python",
   "name": "python",
   "nbconvert_exporter": "python",
   "pygments_lexer": "ipython3",
   "version": "3.5.2"
  },
  "widgets": {
   "state": {},
   "version": "1.1.2"
  }
 },
 "nbformat": 4,
 "nbformat_minor": 1
}
